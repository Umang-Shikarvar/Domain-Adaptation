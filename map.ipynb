{
 "cells": [
  {
   "cell_type": "code",
   "execution_count": 1,
   "metadata": {},
   "outputs": [],
   "source": [
    "import pandas as pd\n",
    "from tqdm.notebook import tqdm\n",
    "from os.path import basename, splitext\n",
    "import supervision as sv\n",
    "from supervision.metrics import MeanAveragePrecision\n",
    "from tempfile import mkdtemp\n",
    "from ultralytics import YOLO\n",
    "import os\n",
    "os.environ[\"CUDA_VISIBLE_DEVICES\"] = \"0\"  # Set GPU"
   ]
  },
  {
   "cell_type": "code",
   "execution_count": 2,
   "metadata": {},
   "outputs": [],
   "source": [
    "# Path to CSV\n",
    "result_df_path='/home/umang.shikarvar/map/Delhi_to_WB.csv'\n",
    "\n",
    "# Load trained YOLO model\n",
    "model = YOLO(\"/home/umang.shikarvar/instaformer/runs/obb/train36/weights/best.pt\")\n",
    "\n",
    "# Name of the experiment\n",
    "experiment=\"Delhi(CUT)_to_WB\"\n",
    "\n",
    "# GT\n",
    "gt=\"/home/umang.shikarvar/instaformer/wb_small_airshed\""
   ]
  },
  {
   "cell_type": "code",
   "execution_count": 3,
   "metadata": {},
   "outputs": [
    {
     "name": "stdout",
     "output_type": "stream",
     "text": [
      "Loaded dataset: 77 images\n"
     ]
    },
    {
     "data": {
      "application/vnd.jupyter.widget-view+json": {
       "model_id": "cfeefaea76f8453c995f25b36d2c34eb",
       "version_major": 2,
       "version_minor": 0
      },
      "text/plain": [
       "  0%|          | 0/77 [00:00<?, ?it/s]"
      ]
     },
     "metadata": {},
     "output_type": "display_data"
    }
   ],
   "source": [
    "# Class information in YAML file\n",
    "data_yml_save_path = mkdtemp()\n",
    "data_yml = \"\"\"train: dummy\n",
    "val: dummy\n",
    "nc: 3\n",
    "names: [\"CFCBK\", \"FCBK\", \"Zigzag\"]\n",
    "\"\"\"\n",
    "data_yml_path = f\"{data_yml_save_path}/data.yml\"\n",
    "with open(data_yml_path, \"w\") as f:\n",
    "    f.write(data_yml)\n",
    "\n",
    "# GT directories\n",
    "gt_image_dir = gt+\"/images\"\n",
    "gt_label_dir = gt+\"/labels\"\n",
    "\n",
    "# Supervision dataset\n",
    "sv_dataset = sv.DetectionDataset.from_yolo(gt_image_dir, gt_label_dir, data_yml_path)\n",
    "print(f\"Loaded dataset: {len(sv_dataset)} images\")\n",
    "\n",
    "# Initialize lists for predictions and targets\n",
    "targets = []\n",
    "predictions = []\n",
    "\n",
    "# Iterate over the dataset and make predictions\n",
    "for name,_,gt_detection in tqdm(sv_dataset):\n",
    "    file_name=splitext(basename(name))[0]\n",
    "    # prediction_path=join(prediction_dir,f\"{file_name}.txt\")\n",
    "    ultralytics_result=model(name,imgsz=640,iou=0.33,conf=0.001,exist_ok=True,save_txt=False,max_det=300, verbose=False)[0]\n",
    "    sv_detection=sv.Detections.from_ultralytics(ultralytics_result)\n",
    "    targets.append(gt_detection)\n",
    "    predictions.append(sv_detection)"
   ]
  },
  {
   "cell_type": "code",
   "execution_count": 4,
   "metadata": {},
   "outputs": [
    {
     "name": "stdout",
     "output_type": "stream",
     "text": [
      "====================================================================================================\n",
      "Class-specific mAP\n",
      "====================================================================================================\n",
      "Matched classes: [1, 2]\n",
      "mAP 50:95: 0.10210668122129343, mAP 50: 0.26138294661197825, mAP 75: 0.05222055363949167\n",
      "cls: 1, mAP: 0.1598045666358175\n",
      "cls: 2, mAP: 0.36296132658813907\n",
      "====================================================================================================\n",
      "Class-agnostic mAP\n",
      "====================================================================================================\n",
      "CA mAP 50:95: 0.20568566452620476, CA mAP 50: 0.5351419137891656, CA mAP 75: 0.08253122526465544\n"
     ]
    }
   ],
   "source": [
    "## mAP calculation (non-class agnostic)\n",
    "print (100 * \"=\")\n",
    "print(\"Class-specific mAP\")\n",
    "print (100 * \"=\")\n",
    "mAP_metric = MeanAveragePrecision(class_agnostic=False)\n",
    "mAP_result=mAP_metric.update(predictions,targets).compute()\n",
    "matched_classes=mAP_result.matched_classes.tolist()\n",
    "print(f\"Matched classes: {matched_classes}\")\n",
    "\n",
    "# Extract mAP values\n",
    "mAP_50_95 = mAP_result.map50_95  # mAP 50:95\n",
    "mAP_50 = mAP_result.map50  # mAP 50\n",
    "mAP_75 = mAP_result.map75  # mAP 75\n",
    "print(f\"mAP 50:95: {mAP_50_95}, mAP 50: {mAP_50}, mAP 75: {mAP_75}\")\n",
    "\n",
    "# Extract class-wise mAP values\n",
    "num_classes=3\n",
    "final_class_wise_mAP = [0]*num_classes\n",
    "class_wise_mAP=mAP_result.ap_per_class[:,0].tolist()\n",
    "for cls, mAP in zip(matched_classes, class_wise_mAP):\n",
    "    print(f\"cls: {cls}, mAP: {mAP}\")\n",
    "    final_class_wise_mAP[cls] = mAP\n",
    "\n",
    "# Compute class-agnostic mAP\n",
    "print (100 * \"=\")\n",
    "print(\"Class-agnostic mAP\")\n",
    "print (100 * \"=\")\n",
    "mAP_metric_agnostic = MeanAveragePrecision(class_agnostic=True)\n",
    "mAP_result_agnostic = mAP_metric_agnostic.update(predictions, targets).compute()\n",
    "# Extract class-agnostic mAP values\n",
    "mAP_50_95_agnostic = mAP_result_agnostic.map50_95  # mAP 50:95\n",
    "mAP_50_agnostic = mAP_result_agnostic.map50  # mAP 50\n",
    "mAP_75_agnostic = mAP_result_agnostic.map75  # mAP 75\n",
    "print(f\"CA mAP 50:95: {mAP_50_95_agnostic}, CA mAP 50: {mAP_50_agnostic}, CA mAP 75: {mAP_75_agnostic}\")"
   ]
  },
  {
   "cell_type": "code",
   "execution_count": 24,
   "metadata": {},
   "outputs": [],
   "source": [
    "# # Define columns \n",
    "# columns = [\"Model\", \"Class-agnostic mAP50\"]\n",
    "\n",
    "# # Create an empty DataFrame\n",
    "# result_df = pd.DataFrame(columns=columns)\n",
    "\n",
    "# # Append a new row\n",
    "# new_row = [experiment] + [mAP_50_agnostic]\n",
    "# result_df.loc[len(result_df)] = new_row  # Using loc to add the row\n",
    "\n",
    "# # Display DataFrame\n",
    "# display(result_df.style.hide(axis=\"index\"))"
   ]
  },
  {
   "cell_type": "code",
   "execution_count": 5,
   "metadata": {},
   "outputs": [
    {
     "data": {
      "text/html": [
       "<style type=\"text/css\">\n",
       "</style>\n",
       "<table id=\"T_50ac7\">\n",
       "  <thead>\n",
       "    <tr>\n",
       "      <th id=\"T_50ac7_level0_col0\" class=\"col_heading level0 col0\" >Model</th>\n",
       "      <th id=\"T_50ac7_level0_col1\" class=\"col_heading level0 col1\" >CFCBK</th>\n",
       "      <th id=\"T_50ac7_level0_col2\" class=\"col_heading level0 col2\" >FCBK</th>\n",
       "      <th id=\"T_50ac7_level0_col3\" class=\"col_heading level0 col3\" >Zigzag</th>\n",
       "      <th id=\"T_50ac7_level0_col4\" class=\"col_heading level0 col4\" >Class-agnostic AP</th>\n",
       "    </tr>\n",
       "  </thead>\n",
       "  <tbody>\n",
       "    <tr>\n",
       "      <td id=\"T_50ac7_row0_col0\" class=\"data row0 col0\" >Delhi(CUT)_to_WB</td>\n",
       "      <td id=\"T_50ac7_row0_col1\" class=\"data row0 col1\" >0</td>\n",
       "      <td id=\"T_50ac7_row0_col2\" class=\"data row0 col2\" >0.159805</td>\n",
       "      <td id=\"T_50ac7_row0_col3\" class=\"data row0 col3\" >0.362961</td>\n",
       "      <td id=\"T_50ac7_row0_col4\" class=\"data row0 col4\" >0.535142</td>\n",
       "    </tr>\n",
       "  </tbody>\n",
       "</table>\n"
      ],
      "text/plain": [
       "<pandas.io.formats.style.Styler at 0x7f5e498e6fc0>"
      ]
     },
     "metadata": {},
     "output_type": "display_data"
    }
   ],
   "source": [
    "columns=[\"Model\",\"CFCBK\", \"FCBK\", \"Zigzag\", \"Class-agnostic AP\"]\n",
    "result_df = pd.DataFrame(columns=columns)\n",
    "new_row = [experiment] + final_class_wise_mAP + [mAP_50_agnostic]\n",
    "result_df.loc[len(result_df)] = new_row  # Using loc to add the row\n",
    "\n",
    "# Display DataFrame\n",
    "display(result_df.style.hide(axis=\"index\"))"
   ]
  },
  {
   "cell_type": "code",
   "execution_count": 35,
   "metadata": {},
   "outputs": [],
   "source": [
    "# result_df.to_csv(result_df_path, index=False)"
   ]
  },
  {
   "cell_type": "code",
   "execution_count": 7,
   "metadata": {},
   "outputs": [
    {
     "data": {
      "text/html": [
       "<style type=\"text/css\">\n",
       "</style>\n",
       "<table id=\"T_0ac95\">\n",
       "  <thead>\n",
       "    <tr>\n",
       "      <th id=\"T_0ac95_level0_col0\" class=\"col_heading level0 col0\" >Model</th>\n",
       "      <th id=\"T_0ac95_level0_col1\" class=\"col_heading level0 col1\" >CFCBK</th>\n",
       "      <th id=\"T_0ac95_level0_col2\" class=\"col_heading level0 col2\" >FCBK</th>\n",
       "      <th id=\"T_0ac95_level0_col3\" class=\"col_heading level0 col3\" >Zigzag</th>\n",
       "      <th id=\"T_0ac95_level0_col4\" class=\"col_heading level0 col4\" >Class-agnostic AP</th>\n",
       "    </tr>\n",
       "  </thead>\n",
       "  <tbody>\n",
       "    <tr>\n",
       "      <td id=\"T_0ac95_row0_col0\" class=\"data row0 col0\" >Delhi_to_WB</td>\n",
       "      <td id=\"T_0ac95_row0_col1\" class=\"data row0 col1\" >0</td>\n",
       "      <td id=\"T_0ac95_row0_col2\" class=\"data row0 col2\" >0.117843</td>\n",
       "      <td id=\"T_0ac95_row0_col3\" class=\"data row0 col3\" >0.367849</td>\n",
       "      <td id=\"T_0ac95_row0_col4\" class=\"data row0 col4\" >0.505685</td>\n",
       "    </tr>\n",
       "    <tr>\n",
       "      <td id=\"T_0ac95_row1_col0\" class=\"data row1 col0\" >Delhi(CG)_to_WB</td>\n",
       "      <td id=\"T_0ac95_row1_col1\" class=\"data row1 col1\" >0</td>\n",
       "      <td id=\"T_0ac95_row1_col2\" class=\"data row1 col2\" >0.086022</td>\n",
       "      <td id=\"T_0ac95_row1_col3\" class=\"data row1 col3\" >0.390679</td>\n",
       "      <td id=\"T_0ac95_row1_col4\" class=\"data row1 col4\" >0.577615</td>\n",
       "    </tr>\n",
       "    <tr>\n",
       "      <td id=\"T_0ac95_row2_col0\" class=\"data row2 col0\" >Delhi(CUT)_to_WB</td>\n",
       "      <td id=\"T_0ac95_row2_col1\" class=\"data row2 col1\" >0</td>\n",
       "      <td id=\"T_0ac95_row2_col2\" class=\"data row2 col2\" >0.059619</td>\n",
       "      <td id=\"T_0ac95_row2_col3\" class=\"data row2 col3\" >0.314442</td>\n",
       "      <td id=\"T_0ac95_row2_col4\" class=\"data row2 col4\" >0.476521</td>\n",
       "    </tr>\n",
       "    <tr>\n",
       "      <td id=\"T_0ac95_row3_col0\" class=\"data row3 col0\" >Delhi(CUT)_to_WB</td>\n",
       "      <td id=\"T_0ac95_row3_col1\" class=\"data row3 col1\" >0</td>\n",
       "      <td id=\"T_0ac95_row3_col2\" class=\"data row3 col2\" >0.159805</td>\n",
       "      <td id=\"T_0ac95_row3_col3\" class=\"data row3 col3\" >0.362961</td>\n",
       "      <td id=\"T_0ac95_row3_col4\" class=\"data row3 col4\" >0.535142</td>\n",
       "    </tr>\n",
       "  </tbody>\n",
       "</table>\n"
      ],
      "text/plain": [
       "<pandas.io.formats.style.Styler at 0x7f5e5708fef0>"
      ]
     },
     "metadata": {},
     "output_type": "display_data"
    }
   ],
   "source": [
    "# Save DataFrame\n",
    "result=pd.read_csv(result_df_path)\n",
    "result=result.reset_index(drop=True)\n",
    "result = pd.concat([result, result_df], ignore_index=True)\n",
    "display(result.style.hide(axis=\"index\"))\n",
    "result.to_csv(result_df_path, index=False)"
   ]
  },
  {
   "cell_type": "code",
   "execution_count": 8,
   "metadata": {},
   "outputs": [
    {
     "data": {
      "text/html": [
       "<style type=\"text/css\">\n",
       "</style>\n",
       "<table id=\"T_cee72\">\n",
       "  <thead>\n",
       "    <tr>\n",
       "      <th id=\"T_cee72_level0_col0\" class=\"col_heading level0 col0\" >Model</th>\n",
       "      <th id=\"T_cee72_level0_col1\" class=\"col_heading level0 col1\" >CFCBK</th>\n",
       "      <th id=\"T_cee72_level0_col2\" class=\"col_heading level0 col2\" >FCBK</th>\n",
       "      <th id=\"T_cee72_level0_col3\" class=\"col_heading level0 col3\" >Zigzag</th>\n",
       "      <th id=\"T_cee72_level0_col4\" class=\"col_heading level0 col4\" >Class-agnostic AP</th>\n",
       "    </tr>\n",
       "  </thead>\n",
       "  <tbody>\n",
       "    <tr>\n",
       "      <td id=\"T_cee72_row0_col0\" class=\"data row0 col0\" >Delhi_to_WB</td>\n",
       "      <td id=\"T_cee72_row0_col1\" class=\"data row0 col1\" >0</td>\n",
       "      <td id=\"T_cee72_row0_col2\" class=\"data row0 col2\" >0.117843</td>\n",
       "      <td id=\"T_cee72_row0_col3\" class=\"data row0 col3\" >0.367849</td>\n",
       "      <td id=\"T_cee72_row0_col4\" class=\"data row0 col4\" >0.505685</td>\n",
       "    </tr>\n",
       "    <tr>\n",
       "      <td id=\"T_cee72_row1_col0\" class=\"data row1 col0\" >Delhi(CG)_to_WB</td>\n",
       "      <td id=\"T_cee72_row1_col1\" class=\"data row1 col1\" >0</td>\n",
       "      <td id=\"T_cee72_row1_col2\" class=\"data row1 col2\" >0.086022</td>\n",
       "      <td id=\"T_cee72_row1_col3\" class=\"data row1 col3\" >0.390679</td>\n",
       "      <td id=\"T_cee72_row1_col4\" class=\"data row1 col4\" >0.577615</td>\n",
       "    </tr>\n",
       "    <tr>\n",
       "      <td id=\"T_cee72_row2_col0\" class=\"data row2 col0\" >Delhi(CUT)_to_WB</td>\n",
       "      <td id=\"T_cee72_row2_col1\" class=\"data row2 col1\" >0</td>\n",
       "      <td id=\"T_cee72_row2_col2\" class=\"data row2 col2\" >0.159805</td>\n",
       "      <td id=\"T_cee72_row2_col3\" class=\"data row2 col3\" >0.362961</td>\n",
       "      <td id=\"T_cee72_row2_col4\" class=\"data row2 col4\" >0.535142</td>\n",
       "    </tr>\n",
       "  </tbody>\n",
       "</table>\n"
      ],
      "text/plain": [
       "<pandas.io.formats.style.Styler at 0x7f5e49af86b0>"
      ]
     },
     "metadata": {},
     "output_type": "display_data"
    }
   ],
   "source": [
    "result=pd.read_csv(result_df_path)\n",
    "display(result.style.hide(axis=\"index\"))"
   ]
  },
  {
   "cell_type": "code",
   "execution_count": 4,
   "metadata": {},
   "outputs": [
    {
     "data": {
      "text/html": [
       "<style type=\"text/css\">\n",
       "</style>\n",
       "<table id=\"T_2261c\">\n",
       "  <thead>\n",
       "    <tr>\n",
       "      <th id=\"T_2261c_level0_col0\" class=\"col_heading level0 col0\" >Model</th>\n",
       "      <th id=\"T_2261c_level0_col1\" class=\"col_heading level0 col1\" >Class-agnostic AP</th>\n",
       "    </tr>\n",
       "  </thead>\n",
       "  <tbody>\n",
       "    <tr>\n",
       "      <td id=\"T_2261c_row0_col0\" class=\"data row0 col0\" >Delhi_to_WB</td>\n",
       "      <td id=\"T_2261c_row0_col1\" class=\"data row0 col1\" >0.505685</td>\n",
       "    </tr>\n",
       "    <tr>\n",
       "      <td id=\"T_2261c_row1_col0\" class=\"data row1 col0\" >experiment</td>\n",
       "      <td id=\"T_2261c_row1_col1\" class=\"data row1 col1\" >0.577615</td>\n",
       "    </tr>\n",
       "    <tr>\n",
       "      <td id=\"T_2261c_row2_col0\" class=\"data row2 col0\" >verification</td>\n",
       "      <td id=\"T_2261c_row2_col1\" class=\"data row2 col1\" >0.448165</td>\n",
       "    </tr>\n",
       "  </tbody>\n",
       "</table>\n"
      ],
      "text/plain": [
       "<pandas.io.formats.style.Styler at 0x7f1fa7b5c200>"
      ]
     },
     "metadata": {},
     "output_type": "display_data"
    }
   ],
   "source": [
    "result=pd.read_csv(result_df_path)\n",
    "result = result.iloc[:, [0, -1]]\n",
    "display(result.style.hide(axis=\"index\"))"
   ]
  }
 ],
 "metadata": {
  "kernelspec": {
   "display_name": "supervision",
   "language": "python",
   "name": "python3"
  },
  "language_info": {
   "codemirror_mode": {
    "name": "ipython",
    "version": 3
   },
   "file_extension": ".py",
   "mimetype": "text/x-python",
   "name": "python",
   "nbconvert_exporter": "python",
   "pygments_lexer": "ipython3",
   "version": "3.12.4"
  }
 },
 "nbformat": 4,
 "nbformat_minor": 2
}
