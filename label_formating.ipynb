{
 "cells": [
  {
   "cell_type": "code",
   "execution_count": null,
   "metadata": {},
   "outputs": [],
   "source": [
    "import os\n",
    "\n",
    "# Define input and output directories\n",
    "label_dir = \"/home/umang.shikarvar/instaformer/wb_small_airshed/labels\"  # Replace with your label directory path\n",
    "output_dir = \"/home/umang.shikarvar/instaformer/wb_small_airshed/format_labels\"  # Replace with your output directory path\n",
    "\n",
    "# Ensure output directory exists\n",
    "os.makedirs(output_dir, exist_ok=True)\n",
    "\n",
    "# Process each .txt file in the label directory\n",
    "for filename in os.listdir(label_dir):\n",
    "    if filename.endswith(\".txt\"):\n",
    "        input_path = os.path.join(label_dir, filename)\n",
    "        output_path = os.path.join(output_dir, filename)\n",
    "        \n",
    "        with open(input_path, \"r\") as infile, open(output_path, \"w\") as outfile:\n",
    "            for line in infile:\n",
    "                values = line.strip().split()  # Split values by space\n",
    "                if len(values) == 9:  # Ensure correct format\n",
    "                    class_index = values[0]\n",
    "                    x1, y1, x2, y2, x3, y3, x4, y4 = map(float, values[1:])\n",
    "\n",
    "                    # Compute the bounding box\n",
    "                    x_min = min(x1, x2, x3, x4)\n",
    "                    x_max = max(x1, x2, x3, x4)\n",
    "                    y_min = min(y1, y2, y3, y4)\n",
    "                    y_max = max(y1, y2, y3, y4)\n",
    "\n",
    "                    # Save as: x_min y_min x_max y_max\n",
    "                    outfile.write(f\"{x_min} {y_min} {x_max} {y_max}\\n\")\n",
    "        \n",
    "        print(f\"Processed: {filename}\")\n",
    "        \n",
    "print(f\"All files processed and saved in {output_dir}\")"
   ]
  }
 ],
 "metadata": {
  "kernelspec": {
   "display_name": "Python 3",
   "language": "python",
   "name": "python3"
  },
  "language_info": {
   "codemirror_mode": {
    "name": "ipython",
    "version": 3
   },
   "file_extension": ".py",
   "mimetype": "text/x-python",
   "name": "python",
   "nbconvert_exporter": "python",
   "pygments_lexer": "ipython3",
   "version": "3.11.7"
  }
 },
 "nbformat": 4,
 "nbformat_minor": 2
}
